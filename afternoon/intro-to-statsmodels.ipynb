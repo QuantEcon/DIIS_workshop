{
 "cells": [
  {
   "cell_type": "markdown",
   "metadata": {},
   "source": [
    "# Introduction to statsmodels"
   ]
  },
  {
   "cell_type": "markdown",
   "metadata": {},
   "source": [
    "* [`statsmodels`](http://www.statsmodels.org/stable/index.html) is a Python package that allows you to estimate common econometric models\n",
    "* Still in development and not as full-featured as econometrics in R or STATA\n",
    "* Can use in conjuction with pandas\n",
    "\n",
    "### Reading\n",
    "\n",
    "https://lectures.quantecon.org/py/ols.html"
   ]
  },
  {
   "cell_type": "markdown",
   "metadata": {},
   "source": [
    "Start by importing dataframes from our earlier tutorial"
   ]
  },
  {
   "cell_type": "code",
   "execution_count": 1,
   "metadata": {},
   "outputs": [
    {
     "data": {
      "text/plain": [
       "<Figure size 1000x800 with 1 Axes>"
      ]
     },
     "metadata": {},
     "output_type": "display_data"
    }
   ],
   "source": [
    "import pandas as pd\n",
    "import numpy as np\n",
    "import matplotlib.pyplot as plt\n",
    "\n",
    "majors = pd.read_csv('recent-grads.csv')\n",
    "majors.plot(x='Unemployment_rate', y='Median', kind='scatter', figsize=(10, 8), color='red')\n",
    "plt.xlabel('Unemployment rate')\n",
    "plt.ylabel('Median salary')\n",
    "plt.show()"
   ]
  },
  {
   "cell_type": "markdown",
   "metadata": {},
   "source": [
    "From the plot, it appears that the share of women is negatively correlated with the median salary\n",
    "\n",
    "We may want to know more about this relationship:\n",
    "* do citation counts affect total replications/extensions?\n",
    "* is this relationship statistically significant?\n",
    "* are there statistically significant differences across fields?"
   ]
  },
  {
   "cell_type": "code",
   "execution_count": 2,
   "metadata": {},
   "outputs": [
    {
     "data": {
      "image/png": "[encoded data removed]",
      "text/plain": [
       "<Figure size 720x576 with 1 Axes>"
      ]
     },
     "metadata": {
      "needs_background": "light"
     },
     "output_type": "display_data"
    }
   ],
   "source": [
    "from numpy.polynomial.polynomial import polyfit\n",
    "\n",
    "majors.plot(x='Unemployment_rate', y='Median', kind='scatter', figsize=(10, 8), color='red')\n",
    "plt.xlabel('Unemployment rate')\n",
    "plt.ylabel('Median salary')\n",
    "\n",
    "# Fit the linear line\n",
    "b, m = polyfit(majors.Unemployment_rate, majors.Median, 1)\n",
    "plt.plot(majors.Unemployment_rate, b + m * majors.Unemployment_rate)\n",
    "plt.show()"
   ]
  },
  {
   "cell_type": "markdown",
   "metadata": {},
   "source": [
    "To attempt to answer these questions, we can fit a linear line - in other words use a **linear regression model**"
   ]
  },
  {
   "cell_type": "markdown",
   "metadata": {},
   "source": [
    "$$\n",
    "y_t = \\beta_0 + \\beta_1 x_t + u_t \\\\\n",
    "\\text{median salary}_t = \\beta_0 + \\beta_1 \\text{unemployment rate}_t + u_t\n",
    "$$"
   ]
  },
  {
   "cell_type": "markdown",
   "metadata": {},
   "source": [
    "* $\\beta_0$ is the constant term\n",
    "* $\\beta_1$ is the slope term\n",
    "* $u_t$ is the error term\n",
    "\n",
    "To estimate $\\beta_0$, we will need to add a column of 1's to our dataframe"
   ]
  },
  {
   "cell_type": "code",
   "execution_count": 3,
   "metadata": {},
   "outputs": [],
   "source": [
    "majors['constant'] = 1"
   ]
  },
  {
   "cell_type": "markdown",
   "metadata": {},
   "source": [
    "### Using statsmodels\n",
    "\n",
    "We will use statsmodels' OLS (ordinary least squares) function to estimate our linear regression model"
   ]
  },
  {
   "cell_type": "code",
   "execution_count": 4,
   "metadata": {},
   "outputs": [],
   "source": [
    "import statsmodels.api as sm\n",
    "\n",
    "reg = sm.OLS(endog=majors.Median, exog=majors[['constant', 'Unemployment_rate']], missing='drop')"
   ]
  },
  {
   "cell_type": "markdown",
   "metadata": {},
   "source": [
    "We then use `.fit()` to estimate the parameters"
   ]
  },
  {
   "cell_type": "code",
   "execution_count": 5,
   "metadata": {},
   "outputs": [
    {
     "data": {
      "text/plain": [
       "<statsmodels.regression.linear_model.RegressionResultsWrapper at 0x102dd62e8>"
      ]
     },
     "execution_count": 5,
     "metadata": {},
     "output_type": "execute_result"
    }
   ],
   "source": [
    "results = reg.fit()\n",
    "results"
   ]
  },
  {
   "cell_type": "code",
   "execution_count": 6,
   "metadata": {},
   "outputs": [
    {
     "name": "stdout",
     "output_type": "stream",
     "text": [
      "                            OLS Regression Results                            \n",
      "==============================================================================\n",
      "Dep. Variable:                 Median   R-squared:                       0.012\n",
      "Model:                            OLS   Adj. R-squared:                  0.006\n",
      "Method:                 Least Squares   F-statistic:                     2.050\n",
      "Date:                Wed, 10 Apr 2019   Prob (F-statistic):              0.154\n",
      "Time:                        04:32:37   Log-Likelihood:                -1861.1\n",
      "No. Observations:                 173   AIC:                             3726.\n",
      "Df Residuals:                     171   BIC:                             3732.\n",
      "Df Model:                           1                                         \n",
      "Covariance Type:            nonrobust                                         \n",
      "=====================================================================================\n",
      "                        coef    std err          t      P>|t|      [0.025      0.975]\n",
      "-------------------------------------------------------------------------------------\n",
      "constant           4.296e+04   2144.457     20.032      0.000    3.87e+04    4.72e+04\n",
      "Unemployment_rate -4.116e+04   2.87e+04     -1.432      0.154   -9.79e+04    1.56e+04\n",
      "==============================================================================\n",
      "Omnibus:                       90.349   Durbin-Watson:                   0.070\n",
      "Prob(Omnibus):                  0.000   Jarque-Bera (JB):              445.331\n",
      "Skew:                           1.962   Prob(JB):                     1.98e-97\n",
      "Kurtosis:                       9.810   Cond. No.                         33.2\n",
      "==============================================================================\n",
      "\n",
      "Warnings:\n",
      "[1] Standard Errors assume that the covariance matrix of the errors is correctly specified.\n"
     ]
    }
   ],
   "source": [
    "print(results.summary())"
   ]
  },
  {
   "cell_type": "markdown",
   "metadata": {},
   "source": [
    "Our results show that...\n",
    "* the coefficient for unemployment rate is statistically insignificant\n",
    "* the $R^2$ value indicates the model does a poor job of explaining variation in median salary"
   ]
  },
  {
   "cell_type": "markdown",
   "metadata": {},
   "source": [
    "We can retrieve our predicted results with `.predict()`"
   ]
  },
  {
   "cell_type": "code",
   "execution_count": 7,
   "metadata": {},
   "outputs": [
    {
     "data": {
      "text/plain": [
       "array([42201.49955242, 38132.66007134, 41966.2505909 , 40894.97188265,\n",
       "       40443.3782604 , 35663.84207855, 39021.21209059, 42086.79894349,\n",
       "       40597.94154626, 40522.5593098 , 40265.92624168, 40276.09989901,\n",
       "       39168.07403432, 42009.61179758, 42697.28719802, 39371.42333874,\n",
       "       41193.35234103, 40495.79121928, 40409.09136011, 42476.87583189,\n",
       "       40357.97456608, 38968.56021394, 39354.3823907 , 41814.28082831,\n",
       "       40561.00967615, 40051.89630509, 40487.60874907, 40988.25928681,\n",
       "       39896.20057787, 37672.319672  , 39106.14412298, 40693.09267356,\n",
       "       39279.56322639, 39869.62279842, 41111.56550351, 40460.30853664,\n",
       "       38879.62531103, 38988.44241067, 41792.90820458, 40013.58319813,\n",
       "       40087.31457666, 41012.19489514, 39111.42249742, 40973.20425774,\n",
       "       41435.88181192, 40458.04122563, 39407.20556376, 39219.95491245,\n",
       "       39437.74797866, 40612.24199854, 41572.98191764, 41208.54006103,\n",
       "       42957.99125189, 38266.7828214 , 39861.47852211, 38530.31787579,\n",
       "       38974.01424747, 39959.21457083, 38293.56140701, 38999.69138312,\n",
       "       40672.90743611, 39485.91886116, 39995.37095628, 40898.86029489,\n",
       "       42149.56175383, 40795.65095107, 40638.4896558 , 41553.80318041,\n",
       "       39950.23941223, 41016.21394046, 38480.63495873, 39778.61217143,\n",
       "       41502.93744552, 42957.99125189, 40736.63641258, 41744.69637063,\n",
       "       39985.68390096, 40438.54837636, 38793.92425567, 38288.34764943,\n",
       "       40209.68088555, 38853.65270759, 39643.54198178, 42957.99125189,\n",
       "       36708.2728101 , 39852.73668389, 40506.2691109 , 39996.11005793,\n",
       "       39607.32916976, 36393.79888441, 41954.83583711, 41737.69581277,\n",
       "       39723.66293899, 39863.91466011, 39564.48658542, 38974.07046826,\n",
       "       40110.88005797, 40661.13696031, 40160.91392279, 40347.41699404,\n",
       "       41249.64412253, 40111.44152499, 38955.70026494, 40130.46127182,\n",
       "       39269.2219768 , 38039.22944   , 39964.85080744, 40216.12927791,\n",
       "       40962.61948078, 40041.55131019, 42043.12535339, 38977.0269572 ,\n",
       "       42957.99125189, 40597.21507987, 39020.60551523, 39847.88762058,\n",
       "       39515.86622474, 40732.08685048, 38342.43817728, 42291.12733741,\n",
       "       42957.99125189, 40086.05113181, 40548.42210574, 40047.15672003,\n",
       "       39461.64280017, 39260.55570326, 40495.91567877, 40440.43629997,\n",
       "       40887.51740163, 38659.70602082, 40520.99097214, 39158.93893871,\n",
       "       40715.94284209, 40808.3907621 , 39578.91540713, 39004.76936297,\n",
       "       41367.76835503, 39347.53069857, 41040.65195518, 40839.74051735,\n",
       "       39736.71344601, 38604.69813932, 38700.08106419, 41087.20778656,\n",
       "       41012.74870692, 39508.56756502, 39831.7009733 , 39884.88344904,\n",
       "       40476.28050778, 39493.11594482, 40195.18028562, 40125.2242604 ,\n",
       "       40864.63134399, 38751.8278932 , 41453.86587805, 40821.60840865,\n",
       "       41401.46464898, 40135.2604114 , 40380.38361134, 39272.26855893,\n",
       "       40666.48571363, 40498.1564022 , 38727.37423873, 40999.56530319,\n",
       "       41307.38105807, 38549.40396809, 39766.61261446, 39593.70789419,\n",
       "       41051.57652629, 40278.1535628 , 36823.57929471, 40751.1136352 ,\n",
       "       38638.71550087])"
      ]
     },
     "execution_count": 7,
     "metadata": {},
     "output_type": "execute_result"
    }
   ],
   "source": [
    "results.predict()"
   ]
  },
  {
   "cell_type": "code",
   "execution_count": 8,
   "metadata": {},
   "outputs": [
    {
     "data": {
      "image/png": "[encoded data removed]",
      "text/plain": [
       "<Figure size 720x576 with 1 Axes>"
      ]
     },
     "metadata": {
      "needs_background": "light"
     },
     "output_type": "display_data"
    }
   ],
   "source": [
    "majors.plot(x='Unemployment_rate', y='Median', kind='scatter', figsize=(10, 8), color='red')\n",
    "plt.xlabel('Unemployment rate')\n",
    "plt.ylabel('Median salary')\n",
    "plt.plot(majors.Unemployment_rate, results.predict())\n",
    "\n",
    "plt.show()"
   ]
  },
  {
   "cell_type": "code",
   "execution_count": 9,
   "metadata": {},
   "outputs": [
    {
     "name": "stderr",
     "output_type": "stream",
     "text": [
      "/Users/natashawatkins/anaconda3/lib/python3.7/site-packages/scipy/stats/stats.py:1713: FutureWarning: Using a non-tuple sequence for multidimensional indexing is deprecated; use `arr[tuple(seq)]` instead of `arr[seq]`. In the future this will be interpreted as an array index, `arr[np.array(seq)]`, which will result either in an error or a different result.\n",
      "  return np.add.reduce(sorted[indexer] * weights, axis=axis) / sumval\n"
     ]
    },
    {
     "data": {
      "image/png": "[encoded data removed]",
      "text/plain": [
       "<Figure size 504x504 with 1 Axes>"
      ]
     },
     "metadata": {
      "needs_background": "light"
     },
     "output_type": "display_data"
    }
   ],
   "source": [
    "import seaborn as sns\n",
    "\n",
    "sns.lmplot(x=\"Unemployment_rate\", y=\"Median\", height=7, data=majors)\n",
    "plt.show()"
   ]
  },
  {
   "cell_type": "markdown",
   "metadata": {},
   "source": [
    "### Adding dummies"
   ]
  },
  {
   "cell_type": "markdown",
   "metadata": {},
   "source": [
    "We can expand our model to include dummies (indicator variables) for each major category\n",
    "\n",
    "$$\n",
    "\\text{Median salary}_t = \\beta_0 + \\beta_1 \\text{Unemployment rate}_t + \\beta_2 \\text{Business}_t + \\beta_3 \\text{Physical Sciences}_t + \\cdots +  u_t\n",
    "$$\n",
    "\n",
    "Dummy variables test whether there are statistically significant differences between categories"
   ]
  },
  {
   "cell_type": "markdown",
   "metadata": {},
   "source": [
    "To avoid multicollinearity, we need to drop one of our fields\n",
    "* this implies that the 'base case' is Agriculture & Natural Resources"
   ]
  },
  {
   "cell_type": "code",
   "execution_count": 10,
   "metadata": {},
   "outputs": [
    {
     "data": {
      "text/html": [
       "<div>\n",
       "<style scoped>\n",
       "    .dataframe tbody tr th:only-of-type {\n",
       "        vertical-align: middle;\n",
       "    }\n",
       "\n",
       "    .dataframe tbody tr th {\n",
       "        vertical-align: top;\n",
       "    }\n",
       "\n",
       "    .dataframe thead th {\n",
       "        text-align: right;\n",
       "    }\n",
       "</style>\n",
       "<table border=\"1\" class=\"dataframe\">\n",
       "  <thead>\n",
       "    <tr style=\"text-align: right;\">\n",
       "      <th></th>\n",
       "      <th>Arts</th>\n",
       "      <th>Biology &amp; Life Science</th>\n",
       "      <th>Business</th>\n",
       "      <th>Communications &amp; Journalism</th>\n",
       "      <th>Computers &amp; Mathematics</th>\n",
       "      <th>Education</th>\n",
       "      <th>Engineering</th>\n",
       "      <th>Health</th>\n",
       "      <th>Humanities &amp; Liberal Arts</th>\n",
       "      <th>Industrial Arts &amp; Consumer Services</th>\n",
       "      <th>Interdisciplinary</th>\n",
       "      <th>Law &amp; Public Policy</th>\n",
       "      <th>Physical Sciences</th>\n",
       "      <th>Psychology &amp; Social Work</th>\n",
       "      <th>Social Science</th>\n",
       "    </tr>\n",
       "  </thead>\n",
       "  <tbody>\n",
       "    <tr>\n",
       "      <th>0</th>\n",
       "      <td>0</td>\n",
       "      <td>0</td>\n",
       "      <td>0</td>\n",
       "      <td>0</td>\n",
       "      <td>0</td>\n",
       "      <td>0</td>\n",
       "      <td>1</td>\n",
       "      <td>0</td>\n",
       "      <td>0</td>\n",
       "      <td>0</td>\n",
       "      <td>0</td>\n",
       "      <td>0</td>\n",
       "      <td>0</td>\n",
       "      <td>0</td>\n",
       "      <td>0</td>\n",
       "    </tr>\n",
       "    <tr>\n",
       "      <th>1</th>\n",
       "      <td>0</td>\n",
       "      <td>0</td>\n",
       "      <td>0</td>\n",
       "      <td>0</td>\n",
       "      <td>0</td>\n",
       "      <td>0</td>\n",
       "      <td>1</td>\n",
       "      <td>0</td>\n",
       "      <td>0</td>\n",
       "      <td>0</td>\n",
       "      <td>0</td>\n",
       "      <td>0</td>\n",
       "      <td>0</td>\n",
       "      <td>0</td>\n",
       "      <td>0</td>\n",
       "    </tr>\n",
       "    <tr>\n",
       "      <th>2</th>\n",
       "      <td>0</td>\n",
       "      <td>0</td>\n",
       "      <td>0</td>\n",
       "      <td>0</td>\n",
       "      <td>0</td>\n",
       "      <td>0</td>\n",
       "      <td>1</td>\n",
       "      <td>0</td>\n",
       "      <td>0</td>\n",
       "      <td>0</td>\n",
       "      <td>0</td>\n",
       "      <td>0</td>\n",
       "      <td>0</td>\n",
       "      <td>0</td>\n",
       "      <td>0</td>\n",
       "    </tr>\n",
       "    <tr>\n",
       "      <th>3</th>\n",
       "      <td>0</td>\n",
       "      <td>0</td>\n",
       "      <td>0</td>\n",
       "      <td>0</td>\n",
       "      <td>0</td>\n",
       "      <td>0</td>\n",
       "      <td>1</td>\n",
       "      <td>0</td>\n",
       "      <td>0</td>\n",
       "      <td>0</td>\n",
       "      <td>0</td>\n",
       "      <td>0</td>\n",
       "      <td>0</td>\n",
       "      <td>0</td>\n",
       "      <td>0</td>\n",
       "    </tr>\n",
       "    <tr>\n",
       "      <th>4</th>\n",
       "      <td>0</td>\n",
       "      <td>0</td>\n",
       "      <td>0</td>\n",
       "      <td>0</td>\n",
       "      <td>0</td>\n",
       "      <td>0</td>\n",
       "      <td>1</td>\n",
       "      <td>0</td>\n",
       "      <td>0</td>\n",
       "      <td>0</td>\n",
       "      <td>0</td>\n",
       "      <td>0</td>\n",
       "      <td>0</td>\n",
       "      <td>0</td>\n",
       "      <td>0</td>\n",
       "    </tr>\n",
       "  </tbody>\n",
       "</table>\n",
       "</div>"
      ],
      "text/plain": [
       "   Arts  Biology & Life Science  Business  Communications & Journalism  \\\n",
       "0     0                       0         0                            0   \n",
       "1     0                       0         0                            0   \n",
       "2     0                       0         0                            0   \n",
       "3     0                       0         0                            0   \n",
       "4     0                       0         0                            0   \n",
       "\n",
       "   Computers & Mathematics  Education  Engineering  Health  \\\n",
       "0                        0          0            1       0   \n",
       "1                        0          0            1       0   \n",
       "2                        0          0            1       0   \n",
       "3                        0          0            1       0   \n",
       "4                        0          0            1       0   \n",
       "\n",
       "   Humanities & Liberal Arts  Industrial Arts & Consumer Services  \\\n",
       "0                          0                                    0   \n",
       "1                          0                                    0   \n",
       "2                          0                                    0   \n",
       "3                          0                                    0   \n",
       "4                          0                                    0   \n",
       "\n",
       "   Interdisciplinary  Law & Public Policy  Physical Sciences  \\\n",
       "0                  0                    0                  0   \n",
       "1                  0                    0                  0   \n",
       "2                  0                    0                  0   \n",
       "3                  0                    0                  0   \n",
       "4                  0                    0                  0   \n",
       "\n",
       "   Psychology & Social Work  Social Science  \n",
       "0                         0               0  \n",
       "1                         0               0  \n",
       "2                         0               0  \n",
       "3                         0               0  \n",
       "4                         0               0  "
      ]
     },
     "execution_count": 10,
     "metadata": {},
     "output_type": "execute_result"
    }
   ],
   "source": [
    "dummies = pd.get_dummies(majors.Major_category, drop_first=True)\n",
    "dummies.head()"
   ]
  },
  {
   "cell_type": "code",
   "execution_count": 11,
   "metadata": {},
   "outputs": [
    {
     "data": {
      "text/html": [
       "<div>\n",
       "<style scoped>\n",
       "    .dataframe tbody tr th:only-of-type {\n",
       "        vertical-align: middle;\n",
       "    }\n",
       "\n",
       "    .dataframe tbody tr th {\n",
       "        vertical-align: top;\n",
       "    }\n",
       "\n",
       "    .dataframe thead th {\n",
       "        text-align: right;\n",
       "    }\n",
       "</style>\n",
       "<table border=\"1\" class=\"dataframe\">\n",
       "  <thead>\n",
       "    <tr style=\"text-align: right;\">\n",
       "      <th></th>\n",
       "      <th>Rank</th>\n",
       "      <th>Major_code</th>\n",
       "      <th>Major</th>\n",
       "      <th>Total</th>\n",
       "      <th>Men</th>\n",
       "      <th>Women</th>\n",
       "      <th>Major_category</th>\n",
       "      <th>ShareWomen</th>\n",
       "      <th>Sample_size</th>\n",
       "      <th>Employed</th>\n",
       "      <th>...</th>\n",
       "      <th>Education</th>\n",
       "      <th>Engineering</th>\n",
       "      <th>Health</th>\n",
       "      <th>Humanities &amp; Liberal Arts</th>\n",
       "      <th>Industrial Arts &amp; Consumer Services</th>\n",
       "      <th>Interdisciplinary</th>\n",
       "      <th>Law &amp; Public Policy</th>\n",
       "      <th>Physical Sciences</th>\n",
       "      <th>Psychology &amp; Social Work</th>\n",
       "      <th>Social Science</th>\n",
       "    </tr>\n",
       "  </thead>\n",
       "  <tbody>\n",
       "    <tr>\n",
       "      <th>0</th>\n",
       "      <td>1</td>\n",
       "      <td>2419</td>\n",
       "      <td>PETROLEUM ENGINEERING</td>\n",
       "      <td>2339.0</td>\n",
       "      <td>2057.0</td>\n",
       "      <td>282.0</td>\n",
       "      <td>Engineering</td>\n",
       "      <td>0.120564</td>\n",
       "      <td>36</td>\n",
       "      <td>1976</td>\n",
       "      <td>...</td>\n",
       "      <td>0</td>\n",
       "      <td>1</td>\n",
       "      <td>0</td>\n",
       "      <td>0</td>\n",
       "      <td>0</td>\n",
       "      <td>0</td>\n",
       "      <td>0</td>\n",
       "      <td>0</td>\n",
       "      <td>0</td>\n",
       "      <td>0</td>\n",
       "    </tr>\n",
       "    <tr>\n",
       "      <th>1</th>\n",
       "      <td>2</td>\n",
       "      <td>2416</td>\n",
       "      <td>MINING AND MINERAL ENGINEERING</td>\n",
       "      <td>756.0</td>\n",
       "      <td>679.0</td>\n",
       "      <td>77.0</td>\n",
       "      <td>Engineering</td>\n",
       "      <td>0.101852</td>\n",
       "      <td>7</td>\n",
       "      <td>640</td>\n",
       "      <td>...</td>\n",
       "      <td>0</td>\n",
       "      <td>1</td>\n",
       "      <td>0</td>\n",
       "      <td>0</td>\n",
       "      <td>0</td>\n",
       "      <td>0</td>\n",
       "      <td>0</td>\n",
       "      <td>0</td>\n",
       "      <td>0</td>\n",
       "      <td>0</td>\n",
       "    </tr>\n",
       "    <tr>\n",
       "      <th>2</th>\n",
       "      <td>3</td>\n",
       "      <td>2415</td>\n",
       "      <td>METALLURGICAL ENGINEERING</td>\n",
       "      <td>856.0</td>\n",
       "      <td>725.0</td>\n",
       "      <td>131.0</td>\n",
       "      <td>Engineering</td>\n",
       "      <td>0.153037</td>\n",
       "      <td>3</td>\n",
       "      <td>648</td>\n",
       "      <td>...</td>\n",
       "      <td>0</td>\n",
       "      <td>1</td>\n",
       "      <td>0</td>\n",
       "      <td>0</td>\n",
       "      <td>0</td>\n",
       "      <td>0</td>\n",
       "      <td>0</td>\n",
       "      <td>0</td>\n",
       "      <td>0</td>\n",
       "      <td>0</td>\n",
       "    </tr>\n",
       "    <tr>\n",
       "      <th>3</th>\n",
       "      <td>4</td>\n",
       "      <td>2417</td>\n",
       "      <td>NAVAL ARCHITECTURE AND MARINE ENGINEERING</td>\n",
       "      <td>1258.0</td>\n",
       "      <td>1123.0</td>\n",
       "      <td>135.0</td>\n",
       "      <td>Engineering</td>\n",
       "      <td>0.107313</td>\n",
       "      <td>16</td>\n",
       "      <td>758</td>\n",
       "      <td>...</td>\n",
       "      <td>0</td>\n",
       "      <td>1</td>\n",
       "      <td>0</td>\n",
       "      <td>0</td>\n",
       "      <td>0</td>\n",
       "      <td>0</td>\n",
       "      <td>0</td>\n",
       "      <td>0</td>\n",
       "      <td>0</td>\n",
       "      <td>0</td>\n",
       "    </tr>\n",
       "    <tr>\n",
       "      <th>4</th>\n",
       "      <td>5</td>\n",
       "      <td>2405</td>\n",
       "      <td>CHEMICAL ENGINEERING</td>\n",
       "      <td>32260.0</td>\n",
       "      <td>21239.0</td>\n",
       "      <td>11021.0</td>\n",
       "      <td>Engineering</td>\n",
       "      <td>0.341631</td>\n",
       "      <td>289</td>\n",
       "      <td>25694</td>\n",
       "      <td>...</td>\n",
       "      <td>0</td>\n",
       "      <td>1</td>\n",
       "      <td>0</td>\n",
       "      <td>0</td>\n",
       "      <td>0</td>\n",
       "      <td>0</td>\n",
       "      <td>0</td>\n",
       "      <td>0</td>\n",
       "      <td>0</td>\n",
       "      <td>0</td>\n",
       "    </tr>\n",
       "  </tbody>\n",
       "</table>\n",
       "<p>5 rows × 37 columns</p>\n",
       "</div>"
      ],
      "text/plain": [
       "   Rank  Major_code                                      Major    Total  \\\n",
       "0     1        2419                      PETROLEUM ENGINEERING   2339.0   \n",
       "1     2        2416             MINING AND MINERAL ENGINEERING    756.0   \n",
       "2     3        2415                  METALLURGICAL ENGINEERING    856.0   \n",
       "3     4        2417  NAVAL ARCHITECTURE AND MARINE ENGINEERING   1258.0   \n",
       "4     5        2405                       CHEMICAL ENGINEERING  32260.0   \n",
       "\n",
       "       Men    Women Major_category  ShareWomen  Sample_size  Employed  \\\n",
       "0   2057.0    282.0    Engineering    0.120564           36      1976   \n",
       "1    679.0     77.0    Engineering    0.101852            7       640   \n",
       "2    725.0    131.0    Engineering    0.153037            3       648   \n",
       "3   1123.0    135.0    Engineering    0.107313           16       758   \n",
       "4  21239.0  11021.0    Engineering    0.341631          289     25694   \n",
       "\n",
       "        ...        Education  Engineering  Health  Humanities & Liberal Arts  \\\n",
       "0       ...                0            1       0                          0   \n",
       "1       ...                0            1       0                          0   \n",
       "2       ...                0            1       0                          0   \n",
       "3       ...                0            1       0                          0   \n",
       "4       ...                0            1       0                          0   \n",
       "\n",
       "   Industrial Arts & Consumer Services  Interdisciplinary  \\\n",
       "0                                    0                  0   \n",
       "1                                    0                  0   \n",
       "2                                    0                  0   \n",
       "3                                    0                  0   \n",
       "4                                    0                  0   \n",
       "\n",
       "   Law & Public Policy  Physical Sciences  Psychology & Social Work  \\\n",
       "0                    0                  0                         0   \n",
       "1                    0                  0                         0   \n",
       "2                    0                  0                         0   \n",
       "3                    0                  0                         0   \n",
       "4                    0                  0                         0   \n",
       "\n",
       "   Social Science  \n",
       "0               0  \n",
       "1               0  \n",
       "2               0  \n",
       "3               0  \n",
       "4               0  \n",
       "\n",
       "[5 rows x 37 columns]"
      ]
     },
     "execution_count": 11,
     "metadata": {},
     "output_type": "execute_result"
    }
   ],
   "source": [
    "merged = pd.merge(majors, dummies, left_index=True, right_index=True)\n",
    "merged.head()"
   ]
  },
  {
   "cell_type": "code",
   "execution_count": 12,
   "metadata": {},
   "outputs": [],
   "source": [
    "reg_2 = sm.OLS(endog=merged.Median, \n",
    "               exog=merged[['constant', 'Unemployment_rate'] + list(dummies.columns)], \n",
    "               missing='drop')"
   ]
  },
  {
   "cell_type": "code",
   "execution_count": 13,
   "metadata": {},
   "outputs": [
    {
     "name": "stdout",
     "output_type": "stream",
     "text": [
      "                            OLS Regression Results                            \n",
      "==============================================================================\n",
      "Dep. Variable:                 Median   R-squared:                       0.578\n",
      "Model:                            OLS   Adj. R-squared:                  0.534\n",
      "Method:                 Least Squares   F-statistic:                     13.33\n",
      "Date:                Wed, 10 Apr 2019   Prob (F-statistic):           7.19e-22\n",
      "Time:                        04:32:37   Log-Likelihood:                -1787.5\n",
      "No. Observations:                 173   AIC:                             3609.\n",
      "Df Residuals:                     156   BIC:                             3663.\n",
      "Df Model:                          16                                         \n",
      "Covariance Type:            nonrobust                                         \n",
      "=======================================================================================================\n",
      "                                          coef    std err          t      P>|t|      [0.025      0.975]\n",
      "-------------------------------------------------------------------------------------------------------\n",
      "constant                             3.867e+04   2772.871     13.947      0.000    3.32e+04    4.42e+04\n",
      "Unemployment_rate                    -3.15e+04   2.22e+04     -1.419      0.158   -7.53e+04    1.23e+04\n",
      "Arts                                -2771.5435   3788.005     -0.732      0.465   -1.03e+04    4710.856\n",
      "Biology & Life Science               -334.0229   3242.415     -0.103      0.918   -6738.725    6070.679\n",
      "Business                             7102.5596   3308.537      2.147      0.033     567.248    1.36e+04\n",
      "Communications & Journalism         -1794.9829   4650.276     -0.386      0.700    -1.1e+04    7390.649\n",
      "Computers & Mathematics              6725.0596   3475.687      1.935      0.055    -140.421    1.36e+04\n",
      "Education                           -4695.7103   3156.960     -1.487      0.139   -1.09e+04    1540.194\n",
      "Engineering                           2.07e+04   2874.630      7.202      0.000     1.5e+04    2.64e+04\n",
      "Health                                227.1033   3358.206      0.068      0.946   -6406.320    6860.527\n",
      "Humanities & Liberal Arts           -4209.3716   3242.068     -1.298      0.196   -1.06e+04    2194.646\n",
      "Industrial Arts & Consumer Services  -817.2027   3861.691     -0.212      0.833   -8445.152    6810.747\n",
      "Interdisciplinary                   -1442.2834   8215.686     -0.176      0.861   -1.77e+04    1.48e+04\n",
      "Law & Public Policy                  6385.8639   4354.912      1.466      0.145   -2216.339     1.5e+04\n",
      "Physical Sciences                    4680.7984   3507.252      1.335      0.184   -2247.033    1.16e+04\n",
      "Psychology & Social Work            -6304.3675   3613.313     -1.745      0.083   -1.34e+04     832.965\n",
      "Social Science                       1685.3959   3701.137      0.455      0.649   -5625.414    8996.206\n",
      "==============================================================================\n",
      "Omnibus:                      110.794   Durbin-Watson:                   1.049\n",
      "Prob(Omnibus):                  0.000   Jarque-Bera (JB):             1229.434\n",
      "Skew:                           2.143   Prob(JB):                    1.08e-267\n",
      "Kurtosis:                      15.336   Cond. No.                         39.1\n",
      "==============================================================================\n",
      "\n",
      "Warnings:\n",
      "[1] Standard Errors assume that the covariance matrix of the errors is correctly specified.\n"
     ]
    }
   ],
   "source": [
    "results_2 = reg_2.fit()\n",
    "print(results_2.summary())"
   ]
  },
  {
   "cell_type": "markdown",
   "metadata": {},
   "source": [
    "The results show that...\n",
    "* Business, engineering and mathematics majors have a positive statistically significant effect on median salary, relative to Agriculture\n",
    "* Psychology majors have a negative statistically significant effect on median salary, relative to Agriculture\n",
    "* The adjusted $R^2$ has increased to 0.53 -> the model does a far better job explaining variation in median salary, suggesting that major choice is a contributing factor to salary"
   ]
  },
  {
   "cell_type": "markdown",
   "metadata": {},
   "source": [
    "## Exercise\n",
    "\n",
    "Does the proportion of low wage jobs (out of total jobs) in each major differ by major category?\n",
    "* Add a new variable to your DataFrame to represent low wage rate\n",
    "* Run a regression on the dummies for major catetorgy\n",
    "* Which majors (if any) exhibit a statistically significant difference in determining the proportion of low wage jobs?"
   ]
  },
  {
   "cell_type": "code",
   "execution_count": null,
   "metadata": {},
   "outputs": [],
   "source": []
  }
 ],
 "metadata": {
  "kernelspec": {
   "display_name": "Python 3",
   "language": "python",
   "name": "python3"
  },
  "language_info": {
   "codemirror_mode": {
    "name": "ipython",
    "version": 3
   },
   "file_extension": ".py",
   "mimetype": "text/x-python",
   "name": "python",
   "nbconvert_exporter": "python",
   "pygments_lexer": "ipython3",
   "version": "3.7.1"
  }
 },
 "nbformat": 4,
 "nbformat_minor": 2
}
