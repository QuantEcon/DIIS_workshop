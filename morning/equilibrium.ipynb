{
 "cells": [
  {
   "cell_type": "markdown",
   "metadata": {},
   "source": [
    "# Equilibrium"
   ]
  },
  {
   "cell_type": "markdown",
   "metadata": {},
   "source": [
    "Prepared for the QuantEcon DIIS Workshop\n",
    "\n",
    "Written by John Stachurski"
   ]
  },
  {
   "cell_type": "code",
   "execution_count": 1,
   "metadata": {},
   "outputs": [],
   "source": [
    "%matplotlib inline"
   ]
  },
  {
   "cell_type": "markdown",
   "metadata": {},
   "source": [
    "First we import some functionality from the scientific libraries"
   ]
  },
  {
   "cell_type": "code",
   "execution_count": 2,
   "metadata": {},
   "outputs": [],
   "source": [
    "import numpy as np\n",
    "import matplotlib.pyplot as plt\n",
    "\n",
    "from scipy.optimize import brentq"
   ]
  },
  {
   "cell_type": "markdown",
   "metadata": {},
   "source": [
    "Next we'll write a function that takes a parameter set and returns a market clearing price via root finding:"
   ]
  },
  {
   "cell_type": "code",
   "execution_count": 3,
   "metadata": {},
   "outputs": [],
   "source": [
    "def compute_equilibrium(a=1, b=0.1, ϵ=1, p_low=0.1, p_high=10.0):\n",
    "    \"\"\"\n",
    "    Solve for the zero of excess supply using the brentq root finding algorithm.\n",
    "    \n",
    "    Search between p_low and p_high.\n",
    "    \"\"\"\n",
    "    def excess_supply(p):\n",
    "        return np.exp(b * p) - 1 - a * p**(-ϵ)  # Excess supply\n",
    "    \n",
    "    p_clear = brentq(excess_supply, p_low, p_high)\n",
    "    return p_clear"
   ]
  },
  {
   "cell_type": "markdown",
   "metadata": {},
   "source": [
    "Let's test it with the original parameter set, the market clearing price for which was 2.9334.  The parameters are\n",
    "\n",
    "$$ a = 1, \\quad b = 0.1, \\quad \\epsilon = 1 $$"
   ]
  },
  {
   "cell_type": "code",
   "execution_count": 4,
   "metadata": {},
   "outputs": [
    {
     "data": {
      "text/plain": [
       "2.933410885534702"
      ]
     },
     "execution_count": 4,
     "metadata": {},
     "output_type": "execute_result"
    }
   ],
   "source": [
    "compute_equilibrium()"
   ]
  },
  {
   "cell_type": "code",
   "execution_count": 5,
   "metadata": {},
   "outputs": [
    {
     "data": {
      "text/plain": [
       "2.433107128867458"
      ]
     },
     "execution_count": 5,
     "metadata": {},
     "output_type": "execute_result"
    }
   ],
   "source": [
    "compute_equilibrium(ϵ=1.45)"
   ]
  },
  {
   "cell_type": "markdown",
   "metadata": {},
   "source": [
    "### Exercise\n",
    "\n",
    "For $\\epsilon$ in a grid of values between 1.0 and 1.5, plot the equilibrium price for each $\\epsilon$.\n",
    "\n",
    "Hints:\n",
    "\n",
    "This is one way that you could solve the problem:\n",
    "\n",
    "* make an empty list called `prices`\n",
    "* use a `for` loop to compute equilibrium prices at each $\\epsilon$ in the grid\n",
    "* in the loop, append the computed values to the `prices` list after each computation\n",
    "* plot"
   ]
  },
  {
   "cell_type": "markdown",
   "metadata": {},
   "source": [
    "### Solution"
   ]
  },
  {
   "cell_type": "code",
   "execution_count": 6,
   "metadata": {},
   "outputs": [
    {
     "name": "stdout",
     "output_type": "stream",
     "text": [
      "The solution is below\n",
      "The solution is below\n",
      "The solution is below\n",
      "The solution is below\n",
      "The solution is below\n",
      "The solution is below\n",
      "The solution is below\n",
      "The solution is below\n",
      "The solution is below\n",
      "The solution is below\n",
      "The solution is below\n",
      "The solution is below\n",
      "The solution is below\n",
      "The solution is below\n",
      "The solution is below\n",
      "The solution is below\n",
      "The solution is below\n",
      "The solution is below\n",
      "The solution is below\n",
      "The solution is below\n",
      "The solution is below\n",
      "The solution is below\n",
      "The solution is below\n",
      "The solution is below\n",
      "The solution is below\n",
      "The solution is below\n",
      "The solution is below\n",
      "The solution is below\n",
      "The solution is below\n",
      "The solution is below\n",
      "The solution is below\n",
      "The solution is below\n",
      "The solution is below\n",
      "The solution is below\n",
      "The solution is below\n",
      "The solution is below\n",
      "The solution is below\n",
      "The solution is below\n",
      "The solution is below\n",
      "The solution is below\n"
     ]
    }
   ],
   "source": [
    "for i in range(40):\n",
    "    print(\"The solution is below\")"
   ]
  },
  {
   "cell_type": "code",
   "execution_count": 7,
   "metadata": {},
   "outputs": [
    {
     "data": {
      "text/plain": [
       "(1.0, 1.5)"
      ]
     },
     "execution_count": 7,
     "metadata": {},
     "output_type": "execute_result"
    },
    {
     "data": {
      "image/png": "[encoded data removed]",
      "text/plain": [
       "<Figure size 432x288 with 1 Axes>"
      ]
     },
     "metadata": {
      "needs_background": "light"
     },
     "output_type": "display_data"
    }
   ],
   "source": [
    "fig, ax = plt.subplots()\n",
    "epsilon_grid = np.linspace(1, 1.5, 100)\n",
    "\n",
    "prices = []\n",
    "\n",
    "for eps in epsilon_grid:\n",
    "    prices.append(compute_equilibrium(ϵ=eps))\n",
    "\n",
    "ax.plot(epsilon_grid, prices, lw=2, alpha=0.6)\n",
    "ax.set_xlabel(\"epsilon\")\n",
    "ax.set_ylabel(\"equilibrium price\")\n",
    "ax.set_xlim(1.0, 1.5)"
   ]
  },
  {
   "cell_type": "code",
   "execution_count": null,
   "metadata": {},
   "outputs": [],
   "source": []
  },
  {
   "cell_type": "code",
   "execution_count": null,
   "metadata": {},
   "outputs": [],
   "source": []
  }
 ],
 "metadata": {
  "anaconda-cloud": {},
  "kernelspec": {
   "display_name": "Python 3",
   "language": "python",
   "name": "python3"
  },
  "language_info": {
   "codemirror_mode": {
    "name": "ipython",
    "version": 3
   },
   "file_extension": ".py",
   "mimetype": "text/x-python",
   "name": "python",
   "nbconvert_exporter": "python",
   "pygments_lexer": "ipython3",
   "version": "3.7.1"
  }
 },
 "nbformat": 4,
 "nbformat_minor": 1
}
