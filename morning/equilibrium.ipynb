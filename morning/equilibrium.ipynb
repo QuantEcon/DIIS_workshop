{
 "cells": [
  {
   "cell_type": "markdown",
   "metadata": {},
   "source": [
    "# Equilibrium"
   ]
  },
  {
   "cell_type": "markdown",
   "metadata": {},
   "source": [
    "Prepared for the Keio Zemi of Ippei Fujiwara\n",
    "\n",
    "Written by John Stachurski"
   ]
  },
  {
   "cell_type": "code",
   "execution_count": 3,
   "metadata": {
    "collapsed": true
   },
   "outputs": [],
   "source": [
    "%matplotlib inline"
   ]
  },
  {
   "cell_type": "markdown",
   "metadata": {},
   "source": [
    "First we import some functionality from the scientific libraries"
   ]
  },
  {
   "cell_type": "code",
   "execution_count": 4,
   "metadata": {
    "collapsed": true
   },
   "outputs": [],
   "source": [
    "import numpy as np\n",
    "import matplotlib.pyplot as plt\n",
    "\n",
    "from scipy.optimize import bisect"
   ]
  },
  {
   "cell_type": "markdown",
   "metadata": {},
   "source": [
    "Now let's write routines to compute supply and demand as functions of price and parameters:"
   ]
  },
  {
   "cell_type": "code",
   "execution_count": 5,
   "metadata": {
    "collapsed": true
   },
   "outputs": [],
   "source": [
    "\n",
    "def supply(p, b):\n",
    "    return np.exp(b * p) - 1\n",
    "\n",
    "def demand(p, a, epsilon):\n",
    "    return a * p**(-epsilon)\n",
    "\n"
   ]
  },
  {
   "cell_type": "markdown",
   "metadata": {},
   "source": [
    "Next we'll write a function that takes a parameter set and returns a market clearing price via bisection:"
   ]
  },
  {
   "cell_type": "code",
   "execution_count": 6,
   "metadata": {
    "collapsed": true
   },
   "outputs": [],
   "source": [
    "from scipy.optimize import bisect\n",
    "\n",
    "def compute_equilibrium(a, b, epsilon):\n",
    "    plow = 0.1\n",
    "    phigh = 10.0\n",
    "    def excess_supply(p):\n",
    "        return supply(p, b) - demand(p, a, epsilon)\n",
    "    pclear = bisect(excess_supply, plow, phigh)\n",
    "    return pclear"
   ]
  },
  {
   "cell_type": "markdown",
   "metadata": {},
   "source": [
    "Let's test it with the original parameter set, the market clearing price for which was 2.9334.  The parameters are\n",
    "\n",
    "$$ a = 1, \\quad b = 0.1, \\quad \\epsilon = 1 $$"
   ]
  },
  {
   "cell_type": "code",
   "execution_count": 7,
   "metadata": {},
   "outputs": [
    {
     "data": {
      "text/plain": [
       "2.9334108855344145"
      ]
     },
     "execution_count": 7,
     "metadata": {},
     "output_type": "execute_result"
    }
   ],
   "source": [
    "compute_equilibrium(1, 0.1, 1)"
   ]
  },
  {
   "cell_type": "code",
   "execution_count": 8,
   "metadata": {},
   "outputs": [
    {
     "data": {
      "text/plain": [
       "2.433107128867579"
      ]
     },
     "execution_count": 8,
     "metadata": {},
     "output_type": "execute_result"
    }
   ],
   "source": [
    "compute_equilibrium(1, 0.1, 1.45)"
   ]
  },
  {
   "cell_type": "markdown",
   "metadata": {},
   "source": [
    "### Exercise\n",
    "\n",
    "For $\\epsilon$ in a grid of values between 1.0 and 1.5, plot the equilibrium price for each $\\epsilon$.\n",
    "\n",
    "One problem is that you need to **loop**.  That is, you need to evaluate \"compute_equilibrium\" for lots of different $\\epsilon$.  Here's a hint on how you might try that."
   ]
  },
  {
   "cell_type": "code",
   "execution_count": 17,
   "metadata": {},
   "outputs": [],
   "source": [
    "def f(x):\n",
    "    out = \"negative\" if x < 0 else \"nonnegative\"\n",
    "    return out\n",
    "\n",
    "vals = np.linspace(-1, 1, 5)"
   ]
  },
  {
   "cell_type": "code",
   "execution_count": 18,
   "metadata": {},
   "outputs": [
    {
     "data": {
      "text/plain": [
       "array([-1. , -0.5,  0. ,  0.5,  1. ])"
      ]
     },
     "execution_count": 18,
     "metadata": {},
     "output_type": "execute_result"
    }
   ],
   "source": [
    "vals"
   ]
  },
  {
   "cell_type": "code",
   "execution_count": 19,
   "metadata": {},
   "outputs": [
    {
     "data": {
      "text/plain": [
       "['negative', 'negative', 'nonnegative', 'nonnegative', 'nonnegative']"
      ]
     },
     "execution_count": 19,
     "metadata": {},
     "output_type": "execute_result"
    }
   ],
   "source": [
    "[f(v) for v in vals]"
   ]
  },
  {
   "cell_type": "markdown",
   "metadata": {},
   "source": [
    "### Solution"
   ]
  },
  {
   "cell_type": "code",
   "execution_count": 10,
   "metadata": {},
   "outputs": [
    {
     "name": "stdout",
     "output_type": "stream",
     "text": [
      "The solution is below\n",
      "The solution is below\n",
      "The solution is below\n",
      "The solution is below\n",
      "The solution is below\n",
      "The solution is below\n",
      "The solution is below\n",
      "The solution is below\n",
      "The solution is below\n",
      "The solution is below\n",
      "The solution is below\n",
      "The solution is below\n",
      "The solution is below\n",
      "The solution is below\n",
      "The solution is below\n",
      "The solution is below\n",
      "The solution is below\n",
      "The solution is below\n",
      "The solution is below\n",
      "The solution is below\n",
      "The solution is below\n",
      "The solution is below\n",
      "The solution is below\n",
      "The solution is below\n",
      "The solution is below\n",
      "The solution is below\n",
      "The solution is below\n",
      "The solution is below\n",
      "The solution is below\n",
      "The solution is below\n",
      "The solution is below\n",
      "The solution is below\n",
      "The solution is below\n",
      "The solution is below\n",
      "The solution is below\n",
      "The solution is below\n",
      "The solution is below\n",
      "The solution is below\n",
      "The solution is below\n",
      "The solution is below\n"
     ]
    }
   ],
   "source": [
    "for i in range(40):\n",
    "    print(\"The solution is below\")"
   ]
  },
  {
   "cell_type": "code",
   "execution_count": 11,
   "metadata": {},
   "outputs": [
    {
     "data": {
      "text/plain": [
       "(1.0, 1.5)"
      ]
     },
     "execution_count": 11,
     "metadata": {},
     "output_type": "execute_result"
    },
    {
     "data": {
      "image/png": "[encoded data removed]",
      "text/plain": [
       "<matplotlib.figure.Figure at 0x7facb3a160b8>"
      ]
     },
     "metadata": {},
     "output_type": "display_data"
    }
   ],
   "source": [
    "import seaborn as sb  # just to make it look pretty\n",
    "\n",
    "a, b = 1, 0.1\n",
    "\n",
    "fig, ax = plt.subplots(figsize=(9, 6))\n",
    "epsilon_grid = np.linspace(1, 1.5, 100)\n",
    "\n",
    "prices = [compute_equilibrium(a, b, epsilon) for epsilon in epsilon_grid]\n",
    "\n",
    "ax.plot(epsilon_grid, prices, lw=2, alpha=0.6)\n",
    "ax.set_xlabel(\"epsilon\")\n",
    "ax.set_ylabel(\"equilibrium price\")\n",
    "ax.set_xlim(1.0, 1.5)"
   ]
  },
  {
   "cell_type": "code",
   "execution_count": null,
   "metadata": {
    "collapsed": true
   },
   "outputs": [],
   "source": []
  }
 ],
 "metadata": {
  "anaconda-cloud": {},
  "kernelspec": {
   "display_name": "Python 3",
   "language": "python",
   "name": "python3"
  },
  "language_info": {
   "codemirror_mode": {
    "name": "ipython",
    "version": 3
   },
   "file_extension": ".py",
   "mimetype": "text/x-python",
   "name": "python",
   "nbconvert_exporter": "python",
   "pygments_lexer": "ipython3",
   "version": "3.7.1"
  }
 },
 "nbformat": 4,
 "nbformat_minor": 1
}
