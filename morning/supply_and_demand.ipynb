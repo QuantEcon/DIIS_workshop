{
 "cells": [
  {
   "cell_type": "markdown",
   "metadata": {},
   "source": [
    "# Supply and Demand"
   ]
  },
  {
   "cell_type": "markdown",
   "metadata": {},
   "source": [
    "First let's do some standard imports and set up commands"
   ]
  },
  {
   "cell_type": "code",
   "execution_count": 1,
   "metadata": {
    "collapsed": true
   },
   "outputs": [],
   "source": [
    "%matplotlib inline"
   ]
  },
  {
   "cell_type": "code",
   "execution_count": 2,
   "metadata": {
    "collapsed": true
   },
   "outputs": [],
   "source": [
    "import numpy as np\n",
    "import matplotlib.pyplot as plt"
   ]
  },
  {
   "cell_type": "markdown",
   "metadata": {},
   "source": [
    "### A Market "
   ]
  },
  {
   "cell_type": "markdown",
   "metadata": {},
   "source": [
    "Let's consider a market for kiwi fruit.  The supply curve is\n",
    "\n",
    "$$ q_s(p) = \\exp(b p) - 1. $$\n",
    "\n",
    "The demand curve is\n",
    "\n",
    "$$ q_d(p) = a p^{-\\epsilon}.  $$\n",
    "\n",
    "The values $a$, $b$ and $\\epsilon$ are **parameters**\n",
    "\n",
    "The equilibrium $p^*$ is the price such that $q_d(p) = q_s(p)$.\n",
    "\n"
   ]
  },
  {
   "cell_type": "markdown",
   "metadata": {},
   "source": [
    "Let's try to find the equilibrium price visually when\n",
    "\n",
    "* $a = 1$\n",
    "* $b = 0.1$\n",
    "* $\\epsilon = 1$"
   ]
  },
  {
   "cell_type": "code",
   "execution_count": 3,
   "metadata": {
    "collapsed": true
   },
   "outputs": [],
   "source": [
    "def supply(p, b):\n",
    "    return np.exp(b * p) - 1\n",
    "\n",
    "def demand(p, a, epsilon):\n",
    "    return a * p**(-epsilon)"
   ]
  },
  {
   "cell_type": "code",
   "execution_count": 4,
   "metadata": {
    "collapsed": true
   },
   "outputs": [],
   "source": [
    "b, a, epsilon = 0.1, 1, 1"
   ]
  },
  {
   "cell_type": "code",
   "execution_count": 5,
   "metadata": {},
   "outputs": [
    {
     "data": {
      "text/plain": [
       "<matplotlib.legend.Legend at 0x7fdb257fda90>"
      ]
     },
     "execution_count": 5,
     "metadata": {},
     "output_type": "execute_result"
    },
    {
     "data": {
      "image/png": "[encoded data removed]",
      "text/plain": [
       "<matplotlib.figure.Figure at 0x7fdb2c0a4278>"
      ]
     },
     "metadata": {},
     "output_type": "display_data"
    }
   ],
   "source": [
    "grid = np.linspace(2, 4, 100)\n",
    "fig, ax = plt.subplots(figsize=(8, 6))\n",
    "\n",
    "ax.plot(grid, demand(grid, a, epsilon), 'b-', lw=2, label='demand')\n",
    "ax.plot(grid, supply(grid, b), 'g-', lw=2, label='supply')\n",
    "\n",
    "ax.set_xlabel('price', fontsize=14)\n",
    "ax.set_ylabel('quantity', fontsize=14)\n",
    "ax.grid()\n",
    "ax.legend(loc='upper center')"
   ]
  },
  {
   "cell_type": "markdown",
   "metadata": {},
   "source": [
    "### Exercises"
   ]
  },
  {
   "cell_type": "markdown",
   "metadata": {},
   "source": [
    "#### Exercise 1.  \n",
    "\n",
    "Give an approximate equilibrium price when \n",
    "\n",
    "* $a = 1$\n",
    "* $b = 0.1$\n",
    "* $\\epsilon = 1.45$\n"
   ]
  },
  {
   "cell_type": "markdown",
   "metadata": {},
   "source": [
    "#### Exercise 2.\n",
    "\n",
    "Try to change the figure above so that it shows **both** the old and the new demand curves (at $\\epsilon = 1$ and $\\epsilon = 1.45$)"
   ]
  },
  {
   "cell_type": "markdown",
   "metadata": {},
   "source": [
    "#### Exercise 3\n",
    "\n",
    "Write a new function **excess** supply (supply - demand) as a function of price and all parameters\n",
    "\n",
    "Change the above figure so that it shows excess supply"
   ]
  },
  {
   "cell_type": "markdown",
   "metadata": {},
   "source": [
    "### Solutions"
   ]
  },
  {
   "cell_type": "code",
   "execution_count": 9,
   "metadata": {},
   "outputs": [
    {
     "name": "stdout",
     "output_type": "stream",
     "text": [
      "Solution is below\n",
      "Solution is below\n",
      "Solution is below\n",
      "Solution is below\n",
      "Solution is below\n",
      "Solution is below\n",
      "Solution is below\n",
      "Solution is below\n",
      "Solution is below\n",
      "Solution is below\n",
      "Solution is below\n",
      "Solution is below\n",
      "Solution is below\n",
      "Solution is below\n",
      "Solution is below\n",
      "Solution is below\n",
      "Solution is below\n",
      "Solution is below\n",
      "Solution is below\n",
      "Solution is below\n",
      "Solution is below\n",
      "Solution is below\n",
      "Solution is below\n",
      "Solution is below\n",
      "Solution is below\n",
      "Solution is below\n",
      "Solution is below\n",
      "Solution is below\n",
      "Solution is below\n",
      "Solution is below\n",
      "Solution is below\n",
      "Solution is below\n",
      "Solution is below\n",
      "Solution is below\n",
      "Solution is below\n",
      "Solution is below\n",
      "Solution is below\n",
      "Solution is below\n",
      "Solution is below\n",
      "Solution is below\n"
     ]
    }
   ],
   "source": [
    "for i in range(40):\n",
    "    print(\"Solution is below\")"
   ]
  },
  {
   "cell_type": "code",
   "execution_count": 8,
   "metadata": {},
   "outputs": [
    {
     "data": {
      "text/plain": [
       "<matplotlib.legend.Legend at 0x7fdb25143c50>"
      ]
     },
     "execution_count": 8,
     "metadata": {},
     "output_type": "execute_result"
    },
    {
     "data": {
      "image/png": "[encoded data removed]",
      "text/plain": [
       "<matplotlib.figure.Figure at 0x7fdb251dc710>"
      ]
     },
     "metadata": {},
     "output_type": "display_data"
    }
   ],
   "source": [
    "def excess_supply(p, a, b, epsilon):\n",
    "    return supply(p, b) - demand(p, a, epsilon)\n",
    "\n",
    "grid = np.linspace(2, 4, 100)\n",
    "y = excess_supply(grid, a, b, epsilon)\n",
    "\n",
    "fig, ax = plt.subplots(figsize=(8, 6))\n",
    "\n",
    "ax.plot(grid, y, 'r-', lw=2, label='excess supply')\n",
    "ax.plot(grid, 0 * grid, 'k-')\n",
    "\n",
    "ax.set_xlabel('price', fontsize=14)\n",
    "ax.set_ylabel('quantity', fontsize=14)\n",
    "ax.grid()\n",
    "ax.legend(loc='upper center')"
   ]
  },
  {
   "cell_type": "code",
   "execution_count": null,
   "metadata": {
    "collapsed": true
   },
   "outputs": [],
   "source": []
  }
 ],
 "metadata": {
  "anaconda-cloud": {},
  "kernelspec": {
   "display_name": "Python 3",
   "language": "python",
   "name": "python3"
  },
  "language_info": {
   "codemirror_mode": {
    "name": "ipython",
    "version": 3
   },
   "file_extension": ".py",
   "mimetype": "text/x-python",
   "name": "python",
   "nbconvert_exporter": "python",
   "pygments_lexer": "ipython3",
   "version": "3.7.1"
  }
 },
 "nbformat": 4,
 "nbformat_minor": 1
}
